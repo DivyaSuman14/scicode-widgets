{
 "cells": [
  {
   "cell_type": "code",
   "execution_count": null,
   "id": "cf711a35-988b-4f7d-b6ed-78c00ba567e9",
   "metadata": {},
   "outputs": [],
   "source": [
    "import scwidgets"
   ]
  },
  {
   "cell_type": "code",
   "execution_count": null,
   "id": "b3aa7987-35c1-484f-9258-5bf23bf95321",
   "metadata": {},
   "outputs": [],
   "source": [
    "from ipywidgets import IntSlider\n",
    "slider = IntSlider(description=\"TestIntSlider\")\n",
    "SaveCueBox(slider, \"value\")"
   ]
  },
  {
   "cell_type": "code",
   "execution_count": null,
   "id": "8c62b109-ecd1-4e56-9e99-7b7308091465",
   "metadata": {},
   "outputs": [],
   "source": [
    "from ipywidgets import Button\n",
    "Button(description='txt')"
   ]
  }
 ],
 "metadata": {
  "kernelspec": {
   "display_name": "Python 3 (ipykernel)",
   "language": "python",
   "name": "python3"
  },
  "language_info": {
   "codemirror_mode": {
    "name": "ipython",
    "version": 3
   },
   "file_extension": ".py",
   "mimetype": "text/x-python",
   "name": "python",
   "nbconvert_exporter": "python",
   "pygments_lexer": "ipython3",
   "version": "3.11.4"
  },
  "widgets": {
   "application/vnd.jupyter.widget-state+json": {
    "state": {},
    "version_major": 2,
    "version_minor": 0
   }
  }
 },
 "nbformat": 4,
 "nbformat_minor": 5
}
