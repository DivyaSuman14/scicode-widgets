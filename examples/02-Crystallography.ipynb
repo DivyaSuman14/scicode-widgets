{
 "cells": [
  {
   "cell_type": "code",
   "execution_count": null,
   "metadata": {},
   "outputs": [],
   "source": [
    "# trys to catch if notebook is run within the browser\n",
    "from IPython import get_ipython\n",
    "if get_ipython().__class__.__name__ == 'Interpreter':\n",
    "    import piplite\n",
    "    await piplite.install('matplotlib')\n",
    "    await piplite.install('ase')\n",
    "\n",
    "    await piplite.install('widget_code_input')\n",
    "    await piplite.install('chemiscope')\n",
    "    await piplite.install('https://agoscinski.github.io/scicode-widgets-wheels/dist/scwidgets-0.0.0.dev0-py3-none-any.whl')"
   ]
  },
  {
   "cell_type": "code",
   "execution_count": null,
   "metadata": {},
   "outputs": [],
   "source": [
    "import matplotlib.pyplot as plt\n",
    "%matplotlib widget\n",
    "import numpy as np\n",
    "import scipy as sp\n",
    "import matplotlib as mpl\n",
    "import matplotlib.pyplot as plt\n",
    "import chemiscope\n",
    "from widget_code_input import WidgetCodeInput\n",
    "from ipywidgets import Layout, Output, Textarea, HTML, HBox\n",
    "from scwidgets import (AnswerRegistry, TextareaAnswer, CodeDemo,\n",
    "                       ParametersBox, PyplotOutput, ClearedOutput,\n",
    "                       AnimationOutput,CheckRegistry,Answer)\n",
    "import ase\n",
    "from ase.io import read, write\n",
    "import itertools\n",
    "import functools    \n",
    "from copy import deepcopy"
   ]
  },
  {
   "cell_type": "code",
   "execution_count": null,
   "metadata": {},
   "outputs": [],
   "source": [
    "# this is a temporary hack until the latest chemiscope release containts the merged fix\n",
    "if get_ipython().__class__.__name__ == 'Interpreter':\n",
    "    chemiscope.jupyter._is_running_in_notebook = lambda : True"
   ]
  },
  {
   "cell_type": "code",
   "execution_count": null,
   "metadata": {
    "code_folding": []
   },
   "outputs": [],
   "source": [
    "#### AVOID folding of output cell "
   ]
  },
  {
   "cell_type": "code",
   "execution_count": null,
   "metadata": {},
   "outputs": [],
   "source": [
    "%%html\n",
    "<style>\n",
    ".jp-CodeCell.jp-mod-outputsScrolled .jp-Cell-outputArea  {  height:auto !important;\n",
    "    max-height: 5000px; overflow-y: hidden }\n",
    "</style>\n",
    "<style>\n",
    ".output_wrapper, .output {\n",
    "    height:auto !important;\n",
    "    max-height:4000px;  /* your desired max-height here */\n",
    "}\n",
    ".output_scroll {\n",
    "    box-shadow:none !important;\n",
    "    webkit-box-shadow:none !important;\n",
    "}\n",
    "</style>"
   ]
  },
  {
   "cell_type": "markdown",
   "metadata": {},
   "source": [
    "Please enter your name as `SurnameName` to initialize the answer file. "
   ]
  },
  {
   "cell_type": "code",
   "execution_count": null,
   "metadata": {},
   "outputs": [],
   "source": [
    "#check_registry = CheckRegistry() \n",
    "answer_registry = AnswerRegistry(prefix=\"module_02\")\n",
    "display(answer_registry)"
   ]
  },
  {
   "cell_type": "code",
   "execution_count": null,
   "metadata": {},
   "outputs": [],
   "source": [
    "def plot_lattice(ax, a1, a2, basis=None, alphas=None, s=20, c='red', \n",
    "                 lattice_size = 60, head_length = 0.5, head_width= 0.2, width=0.05):\n",
    "    if basis is None:\n",
    "        basis = np.array([[0,0]])\n",
    "    A = np.array([a1, a2])\n",
    "    # each atom in the basis gets a different basis alpha value when plotted\n",
    "    if alphas is None:\n",
    "        alphas = np.linspace(1, 0.3, len(basis))\n",
    "    for i in range(len(basis)):\n",
    "        lattice = (np.mgrid[:lattice_size,:lattice_size].T @ A + basis[i]).reshape(-1, 2)\n",
    "        lattice -= (np.array([lattice_size//2,lattice_size//2]) @ A).reshape(-1, 2)\n",
    "        ax.scatter(lattice[:,0], lattice[:,1], color=c, s=s, alpha=alphas[i])\n",
    "        \n",
    "    ax.fill([0,a1[0],(a1+a2)[0],a2[0]], [0,a1[1],(a1+a2)[1],a2[1]], color=c, alpha=0.2)\n",
    "    ax.arrow(0,0, a1[0], a1[1],width=width,\n",
    "             length_includes_head=True,\n",
    "             fc=c, ec='black')\n",
    "    ax.arrow(0,0, a2[0], a2[1],width=width,\n",
    "             length_includes_head=True,\n",
    "             fc=c, ec='black')    "
   ]
  },
  {
   "cell_type": "code",
   "execution_count": null,
   "metadata": {},
   "outputs": [],
   "source": [
    "def reciprocal_lattice_vectors(a1, a2):\n",
    "    # compute it in obfuscated way\n",
    "    reciprocal_lattice = 2*np.pi*ase.Atoms(cell=[[a1[0], a1[1], 0], [a2[0], a2[1], 0], [0,0,1]]).cell.reciprocal()\n",
    "    return reciprocal_lattice[0][:2], reciprocal_lattice[1][:2]\n"
   ]
  },
  {
   "cell_type": "markdown",
   "metadata": {},
   "source": [
    "# Diffraction from an atomic structure"
   ]
  },
  {
   "cell_type": "markdown",
   "metadata": {},
   "source": [
    "An actual crystalline structure involves both a lattice and of an a-periodic basis $\\{\\mathbf{s}_i\\}$ of atoms. Each will scatter with a form factor $f_i$ (that depends on the modulus of $\\mathbf{k}$ but we will take to be a constant proportional to the atomic charge $Z_i$). The scattered amplitude can be written as  \n",
    "\n",
    "$$\n",
    "F(\\mathbf{k}) = \\frac{1}{N} \\sum^N_{j \\textrm{ atom}} f_j\\exp(-\\mathrm{i}\\mathbf{k}\\cdot\\mathbf{r}_j)\\textrm{, with }\\mathbf{r}_j\\textrm{ position of atom }j\n",
    "$$\n",
    "\n",
    "by breaking the position of atoms into lattice vector and basis positions ($\\mathbf{r}_j=\\mathbf{T}+\\mathbf{s}_m$), we can write \n",
    "\n",
    "$$\n",
    "F(\\mathbf{k}) = \\frac{1}{n_\\mathrm{cell} n_\\mathrm{basis}} \n",
    "\\sum^{n_\\mathrm{cell}}_{\\mathbf{T}} \\exp(-\\mathrm{i}\\mathbf{k}\\cdot \\mathbf{T}) \n",
    "\\sum_m^{n_\\mathrm{basis}} f_m \\exp(-\\mathrm{i}\\mathbf{k}\\cdot\\mathbf{s}_m).\n",
    "$$\n",
    "\n",
    "One sees that the sum over lattice vectors selects the diffracted wavevectors that correspond to a reciprocal lattice vector, $\\mathbf{k}=\\mathbf{G}$, as we saw in the previous section. The sum over the atomic basis modulates the amplitude of the peak through a _structure factor_, which we will see encodes information on the type and position of atoms within the unit cell\n",
    "\n",
    "$$\n",
    "F_\\mathbf{G} = \\sum_m^{n_\\mathrm{basis}} f_m \\exp(-\\mathrm{i}\\mathbf{G}\\cdot\\mathbf{s}_m).\n",
    "$$\n"
   ]
  },
  {
   "cell_type": "markdown",
   "metadata": {},
   "source": [
    "\n",
    "[comment]: <> (<img src=\"figures/diffraction.png\" width=\"600\"/>)\n",
    "\n",
    "In the scattering geometry above, one can determine the conditions for scattering in terms of the scattering angle $2\\theta$, as follows. If $k$ is the modulus of both $\\mathbf{k}_\\mathrm{in}$ and $\\mathbf{k}_\\mathrm{out}$, and $\\mathbf{G} = \\mathbf{k} = \\mathbf{k}_\\mathrm{in}-\\mathbf{k}_\\mathrm{out}$ must hold, a first necessary condition is\n",
    "\n",
    "$$\n",
    "G^2 = |\\mathbf{k}_\\mathrm{in}-\\mathbf{k}_\\mathrm{out}|^2 = 2k^2 (1-\\cos 2\\theta) = 4k^2 sin^2 \\theta\n",
    "$$\n",
    "\n",
    "hence, $\\sin\\theta=G/2k$. To determine the orientation of $\\mathbf{G}$ a second condition is needed. We can consider the angle between $\\mathbf{G}$ and the incoming vector $\\phi$, that can be set by changing the orientation of the crystal. Thus, by writing $|\\mathbf{G}-\\mathbf{k}_\\mathrm{in}|^2 = |\\mathbf{k}_\\mathrm{out}|^2$ we can easily get $G = 2 k \\cos\\phi$, and hence $\\cos\\phi = \\sin\\theta$. If the sample is formed by uniformly oriented grains, the second condition is always satisfied by some crystals, and so the diffraction pattern is just a sequence of peaks at particular values of the angle $2\\theta$.  The intensity of each peak is given by the square modulus of the structure factor, $|F_\\mathbf{G}|^2$."
   ]
  },
  {
   "cell_type": "markdown",
   "metadata": {},
   "source": [
    "This widget below computes the powder (rotationally averaged) diffraction pattern for a crystal with a basis of two atoms. The function computes the list of diffraction peaks, with the corresponding structure factor. \n",
    "It is not entirely trivial, and so it is already implemented: you don't have to change it, but you can read it and understand what it does. Experiment with the widget, and then move to the exercises below, that will ask you to comment on what you observe in different scenarios. \n",
    "\n",
    "Parameters are as follows:\n",
    "* $a_{ij}$: components of the lattice vectors\n",
    "* $\\phi$: rigid rotation of the lattice (does it have an impact on the diffraction?)\n",
    "* $s_{1,2}$: fractional coordinates of the second atom of the basis (first atom is in (0,0))\n",
    "* $f_{1,2}$: atomic form factors for the two atoms in the basis (roughly take it to be the atomic number)\n",
    "* $\\lambda$: wavelength of the scattering radiation"
   ]
  },
  {
   "cell_type": "code",
   "execution_count": null,
   "metadata": {},
   "outputs": [],
   "source": [
    "# set upt the code widget window\n",
    "ex12_wci = WidgetCodeInput(\n",
    "        function_name=\"diffraction_peaks\",\n",
    "        function_parameters=\"basis, atomic_ff, reciprocal_b1, reciprocal_b2, wavelength\",\n",
    "        docstring=\"\"\"\n",
    "Computes the list of peaks for a lattice with a given (real-space) basis \n",
    "and reciprocal lattice, and for a given wavelength of the incoming radiation.\n",
    "\n",
    ":param basis: list of N 2D vectors corresponding to the (real space!) position of the basis atoms\n",
    ":param atomic_form_factors: atomic form factors of atoms in lattice, array of length N\n",
    ":param reciprocal_b1, reciprocal_b2:  reciprocal lattice vectors\n",
    ":param wavelength: wavelength of the incoming radiation\n",
    "\n",
    ":return: The list of diffraction peaks, as [h, l, theta, intensity]\n",
    "\"\"\",\n",
    "    function_body=\"\"\"    \n",
    "import numpy as np\n",
    "\n",
    "def compute_absolute_structure_factor(sj, fj, G):\n",
    "    # sj: atomic basis (n_basis x 2)\n",
    "    # fj: form factors (n_basis)\n",
    "    # G: reciprocal lattice vectors (2D)\n",
    "    return np.abs(fj @ np.exp(-1j * sj @ G))\n",
    "\n",
    "# wave number (modulus of the incoming wavevector)\n",
    "k = np.pi*2/wavelength \n",
    "# determine the range of reciprocal lattice vectors that could give rise to permissible reflections\n",
    "if reciprocal_b1@reciprocal_b1 != 0:\n",
    "    n1 = int((k*2)/np.sqrt(reciprocal_b1@reciprocal_b1))+1\n",
    "else:\n",
    "    n1 = 0\n",
    "if reciprocal_b2@reciprocal_b2 != 0:\n",
    "    n2 = int((k*2)/np.sqrt(reciprocal_b2@reciprocal_b2))+1  \n",
    "else:\n",
    "    n2 = 0\n",
    "\n",
    "# allocated space for the list of peaks\n",
    "lpeaks = []\n",
    "for v1 in range(-n1,n1+1):\n",
    "    for v2 in range(-n2,n2+1):\n",
    "        # reciprocal lattice vector\n",
    "        G = reciprocal_b1*v1 + reciprocal_b2*v2\n",
    "\n",
    "        # theta (from 2theta geometry)\n",
    "        sin_theta = np.sqrt(G@G)/(2*k)\n",
    "        if sin_theta > 1: # discards reflections that fall outside of the permissible range\n",
    "            continue\n",
    "        theta = np.arcsin(sin_theta)\n",
    "        # structure factor\n",
    "        absolute_structure_factor = compute_absolute_structure_factor(basis, atomic_ff, G)\n",
    "        lpeaks.append([v1, v2, theta, absolute_structure_factor**2])\n",
    "return np.asarray(lpeaks)\n",
    "\"\"\"\n",
    "        )\n"
   ]
  },
  {
   "cell_type": "code",
   "execution_count": null,
   "metadata": {},
   "outputs": [],
   "source": [
    "def plot_diffraction(a11, a12, a21, a22, s1, s2, f1, f2, phi, wavelength,code_input,visualizers):\n",
    "    print_output = visualizers[0]\n",
    "    pyplot_output = visualizers[1]\n",
    "    table_output = visualizers[2]\n",
    "    axes = pyplot_output.figure.get_axes()\n",
    "    def rot2d(angle):\n",
    "        return np.array([[np.cos(angle), -np.sin(angle)], [np.sin(angle), np.cos(angle)]])\n",
    "    rot_phi = rot2d(phi)\n",
    "    a1 = np.array([a11, a12]) @ rot_phi\n",
    "    a2 = np.array([a21, a22]) @ rot_phi\n",
    "    basis = np.asarray([0*a1,s1*a1+s2*a2])\n",
    "    plot_lattice(axes[0], a1, a2, basis=basis, alphas=[f1/40, f2/40], c='red')\n",
    "    axes[0].set_title('real space')\n",
    "    axes[0].set_xlim(-5,5)\n",
    "    axes[0].set_ylim(-5,5)\n",
    "    axes[0].set_xlabel(\"$x$ / Å\")\n",
    "    axes[0].set_ylabel(\"$y$ / Å\")\n",
    "    \n",
    "    b1, b2 = reciprocal_lattice_vectors(a1, a2)\n",
    "    \n",
    "    dpeaks = code_input.get_function_object()( basis, np.asarray([f1, f2]), b1, b2, wavelength )\n",
    "    \n",
    "    twotheta_grid = np.linspace(0, 180, 720)\n",
    "    dp_grid = np.zeros(len(twotheta_grid))\n",
    "    for _, _, t, f2 in dpeaks:\n",
    "        dp_grid += np.exp(-(twotheta_grid-2*t*180/np.pi)**2/0.5)*f2\n",
    "    \n",
    "    axes[1].clear()\n",
    "    # we plot two theta\n",
    "    axes[1].plot(twotheta_grid, dp_grid, 'b-')\n",
    "    \n",
    "    axes[1].set_xlim(0,180)\n",
    "    axes[1].set_xlabel(\"$2\\\\theta$ / degree °\")\n",
    "    axes[1].set_title('Diffraction pattern')\n",
    "    axes[1].set_ylabel(\"Intensity $|F(\\mathbf{k}(\\\\theta))|$\")\n",
    "    \n",
    "    axes[0].set_aspect('equal')\n",
    "    axes[1].set_aspect(150/np.max(dp_grid))\n",
    "    with table_output:\n",
    "        header = \"\"\"\n",
    "                      v1 / Å \n",
    "                      v2 / Å \n",
    "                      2θ / degree ° \n",
    "                      |FG|2 \n",
    "                    \"\"\"\n",
    "        # cleans up peak info for displaying\n",
    "        tpeaks = []\n",
    "        for d in dpeaks[np.argsort(dpeaks[:,2])]:\n",
    "            tpeaks.append( [ int(d[0]), int(d[1]), np.round(2*d[2]*180/np.pi,2),  np.round(d[3],1) ])\n",
    "        reflection_table_html.value = array_to_html_table(tpeaks, header)\n",
    "        display(reflection_table)\n",
    "        \n",
    "def array_to_html_table(numpy_array, header):\n",
    "    rows = \"\"\n",
    "    for i in range(len(numpy_array)):\n",
    "        rows += \"<tr>\" + functools.reduce(lambda x,y: x+y,\n",
    "                             map(lambda x: \"<td>\" + str(x) + \"</td>\",\n",
    "                                 numpy_array[i])\n",
    "                            ) + \"</tr>\"\n",
    "\n",
    "    return \"<table>\" + header + rows + \"</table>\"\n",
    "        \n",
    "\n",
    "reflection_table_html = HTML(\n",
    "    value=f\"dpeaks\")\n",
    "\n",
    "reflection_table = HBox(layout=Layout(width='99%', height='250px', overflow_y='auto'))\n",
    "reflection_table.children += (reflection_table_html,)"
   ]
  },
  {
   "cell_type": "code",
   "execution_count": null,
   "metadata": {
    "tags": []
   },
   "outputs": [],
   "source": [
    "diffraction_figure, _ = plt.subplots(1, 2, figsize=(7.5,3.8), tight_layout=True)\n",
    "diffraction_output = PyplotOutput(diffraction_figure)\n",
    "\n",
    "ex12_wp = ParametersBox(a11 = (1., -4, 4, 0.1, r'$a_{11} / Å$'),\n",
    "                            a12 = (0., -4, 4, 0.1, r'$a_{12} / Å$'),\n",
    "                            a21 = (0., -4, 4, 0.1, r'$a_{21} / Å$'),\n",
    "                            a22 = (1.5, -4, 4, 0.1, r'$a_{22} / Å$'),\n",
    "                            s1 = (0.25, 0.01, 0.99, 0.01, r'$s_1$'),\n",
    "                            s2 = (0.75, 0.01, 0.99, 0.01, r'$s_2$'),\n",
    "                            f1 = (10., 1., 40., 1, r'$f_{1}$'),\n",
    "                            f2 = (30., 0, 40., 1, r'$f_{2}$'),\n",
    "                            phi = (0., 0., 2*np.pi, 0.1, r'$\\phi$'),\n",
    "                            wavelength = (0.1, 1.0, 2, 0.05, r'$\\lambda$'),\n",
    "                            refresh_mode=\"click\")\n",
    "ex12_code_demo = CodeDemo(\n",
    "            input_parameters_box=ex12_wp,\n",
    "            code_input= ex12_wci,\n",
    "            visualizers = [ClearedOutput(),diffraction_output,ClearedOutput()],\n",
    "            update_visualizers = plot_diffraction\n",
    ")\n",
    "\n",
    "answer_registry.register_answer_widget(\"ex12-function\", ex12_code_demo)\n",
    "display(ex12_code_demo)\n",
    "ex12_code_demo.run_demo()"
   ]
  },
  {
   "cell_type": "markdown",
   "metadata": {},
   "source": [
    "Set $f_2$ to zero (so that effectively this becomes a lattice with a single atom) and set the unit cell to be a $1\\times 1.2$ rectangle. Set the wavelength to 1. Observe how the position and intensity of the peaks change when you change the dimensions of the lattice.\n",
    "\n",
    "\n",
    "<span style=\"color:blue\"> **12a** What happens if you set the off-diagonal term $a_{12}$ to be (slightly) different from zero? What happens if you set the two lattice vectors to be orthogonal and equal in length?\n",
    "</span>"
   ]
  },
  {
   "cell_type": "code",
   "execution_count": null,
   "metadata": {},
   "outputs": [],
   "source": [
    "ex012a_txt = TextareaAnswer(\"Enter your answer here\")\n",
    "answer_registry.register_answer_widget(\"ex12a-answer\", ex012a_txt)\n",
    "display(ex012a_txt)"
   ]
  }
 ],
 "metadata": {
  "kernelspec": {
   "display_name": "Python 3 (ipykernel)",
   "language": "python",
   "name": "python3"
  },
  "language_info": {
   "codemirror_mode": {
    "name": "ipython",
    "version": 3
   },
   "file_extension": ".py",
   "mimetype": "text/x-python",
   "name": "python",
   "nbconvert_exporter": "python",
   "pygments_lexer": "ipython3",
   "version": "3.10.11"
  },
  "latex_envs": {
   "LaTeX_envs_menu_present": true,
   "autoclose": false,
   "autocomplete": true,
   "bibliofile": "biblio.bib",
   "cite_by": "apalike",
   "current_citInitial": 1,
   "eqLabelWithNumbers": true,
   "eqNumInitial": 1,
   "hotkeys": {
    "equation": "Ctrl-E",
    "itemize": "Ctrl-I"
   },
   "labels_anchors": false,
   "latex_user_defs": false,
   "report_style_numbering": false,
   "user_envs_cfg": false
  },
  "toc": {
   "base_numbering": 1,
   "nav_menu": {
    "height": "160px",
    "width": "252px"
   },
   "number_sections": true,
   "sideBar": true,
   "skip_h1_title": false,
   "title_cell": "Table of Contents",
   "title_sidebar": "Contents",
   "toc_cell": false,
   "toc_position": {
    "height": "461px",
    "left": "0px",
    "right": "927.667px",
    "top": "107px",
    "width": "334.867px"
   },
   "toc_section_display": "block",
   "toc_window_display": true
  }
 },
 "nbformat": 4,
 "nbformat_minor": 4
}
