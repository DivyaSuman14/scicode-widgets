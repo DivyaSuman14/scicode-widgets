{
 "cells": [
  {
   "cell_type": "code",
   "execution_count": null,
   "id": "f551e6a2",
   "metadata": {},
   "outputs": [],
   "source": [
    "# trys to catch if notebook is run within the browser\n",
    "from IPython import get_ipython\n",
    "if get_ipython().__class__.__name__ == 'Interpreter':\n",
    "    import piplite\n",
    "    \n",
    "    await piplite.install('matplotlib')\n",
    "    print('matlplotlib installed')\n",
    "    \n",
    "    await piplite.install('ase')\n",
    "    print('ase installed')\n",
    "\n",
    "    await piplite.install('widget_code_input')\n",
    "    print('widget_code_input installed')\n",
    "\n",
    "    await piplite.install('chemiscope')\n",
    "    print('chemiscope installed')\n",
    "\n",
    "    await piplite.install('https://agoscinski.github.io/scicode-widgets-wheels/dist/scwidgets-0.0.0.dev0-py3-none-any.whl')\n",
    "    print('scicode-widgets installed')\n"
   ]
  },
  {
   "cell_type": "code",
   "execution_count": null,
   "id": "e306daab",
   "metadata": {},
   "outputs": [],
   "source": [
    "from scwidgets import (PyplotOutput, TextareaAnswer, AnswerRegistry, MCQBox)\n",
    "import chemiscope\n",
    "from ipywidgets import Layout\n",
    "import numpy as np\n",
    "import matplotlib.pyplot as plt\n",
    "from ase import Atoms, Atom"
   ]
  },
  {
   "cell_type": "code",
   "execution_count": null,
   "id": "97408774",
   "metadata": {},
   "outputs": [],
   "source": [
    "# this is a temporary hack until the latest chemiscope release containts the merged fix\n",
    "if get_ipython().__class__.__name__ == 'Interpreter':\n",
    "    chemiscope.jupyter._is_running_in_notebook = lambda : True"
   ]
  },
  {
   "cell_type": "code",
   "execution_count": null,
   "id": "de658787",
   "metadata": {
    "tags": []
   },
   "outputs": [],
   "source": [
    "answer_registry = AnswerRegistry()\n",
    "display(answer_registry)"
   ]
  },
  {
   "cell_type": "markdown",
   "id": "e73be591-38c0-46d0-afad-5255e82a43de",
   "metadata": {},
   "source": [
    "## Aromatics\n",
    "\n",
    "Aromatic compounds, also known as \"mono- and polycyclic aromatic hydrocarbons\", are organic compounds containing one or more aromatic rings. The word \"aromatic\" originates from the past grouping of molecules based on smell, before their general chemical properties are understood. The current definition of aromatic compounds does not have any relation with their smell. (_Wikipedia : [Aromatic compounds](https://en.wikipedia.org/wiki/Aromatic_compound))_\n",
    "\n",
    "Some examples of aromatic molecules in real-life substances are:\n",
    "\n",
    "*    __Benzene__: This molecule is commonly found in gasoline and is used as a solvent in many industrial processes. It's also a component of cigarette smoke.\n",
    "\n",
    "*    __Vanilla__: The flavor and scent of vanilla comes from a molecule called vanillin, which is an aromatic compound.\n",
    "\n",
    "*    __Cinnamon__: The smell of cinnamon comes from an aromatic molecule called cinnamaldehyde.\n",
    "\n",
    "*    __Lavender__: The scent of lavender is due to the presence of aromatic molecules such as linalool and linalyl acetate.\n",
    "\n",
    "*    __Pine__: The fresh scent of pine is due to the presence of aromatic molecules such as pinene and limonene, which are found in the sap and needles of pine trees."
   ]
  },
  {
   "cell_type": "markdown",
   "id": "688fe5e0",
   "metadata": {},
   "source": [
    "**Question** What is the IUPAC name of the molecule shown below?"
   ]
  },
  {
   "cell_type": "code",
   "execution_count": null,
   "id": "0c16f60c",
   "metadata": {
    "tags": []
   },
   "outputs": [],
   "source": [
    "secret_molecule = Atoms([\n",
    "  Atom('N',      (1.5808,      0.7027,     -0.2279)),\n",
    "  Atom('C',      (1.7062,     -0.7374,     -0.2126)),\n",
    "  Atom('N',      (0.5340,     -1.5671,     -0.3503)),\n",
    "  Atom('C',      (0.3231,      1.3600,      0.0274)),\n",
    "  Atom('C',     (-0.8123,      0.4553,      0.0817)),\n",
    "  Atom('C',     (-0.6967,     -0.9322,     -0.0662)),\n",
    "  Atom('N',     (-2.1886,      0.6990,      0.2783)),\n",
    "  Atom('C',     (-2.8512,     -0.5205,      0.2532)),\n",
    "  Atom('N',     (-1.9537,     -1.5188,      0.0426)),\n",
    "  Atom('C',      (0.6568,     -3.0274,     -0.1675)),\n",
    "  Atom('O',      (2.8136,     -1.2558,     -0.1693)),\n",
    "  Atom('O',      (0.2849,      2.5744,      0.1591)),\n",
    "  Atom('C',     (-2.8096,      2.0031,      0.5032)),\n",
    "  Atom('C',      (2.8301,      1.5004,     -0.1968)),\n",
    "  Atom('H',     (-3.9271,     -0.6787,      0.3762)),\n",
    "  Atom('H',      (1.4823,     -3.4046,     -0.7865)),\n",
    "  Atom('H',     (-0.2708,     -3.5204,     -0.4868)),\n",
    "  Atom('H',      (0.8567,     -3.2990,      0.8788)),\n",
    "  Atom('H',     (-2.4123,      2.7478,     -0.2017)),\n",
    "  Atom('H',     (-2.6042,      2.3621,      1.5221)),\n",
    "  Atom('H',     (-3.8973,      1.9344,      0.3695)),\n",
    "  Atom('H',      (3.5959,      1.0333,     -0.8314)),\n",
    "  Atom('H',      (3.2249,      1.5791,      0.8255)),\n",
    "  Atom('H',      (2.6431,      2.5130,     -0.5793))])\n",
    "properties={}\n",
    "\n",
    "molecule = chemiscope.show(frames=[secret_molecule],properties=chemiscope.extract_properties([secret_molecule]),mode=\"structure\")\n",
    "choices = [' (S)-3-(1-methylpyrrolidin-2-yl)pyridine',' 1,3,7-trimethylxanthine','(RS)-2-(4-(2-methylpropyl)phenyl)propanoic acid','(2R,3S,4R,5R)-2,3,4,5,6-Pentahydroxyhexanal']\n",
    "\n",
    "secret_molecule_qcm = MCQBox(choices)\n",
    "answer_registry.register_answer_widget(\"secret_molecule_qcm\", secret_molecule_qcm)\n",
    "display(molecule)\n",
    "display(secret_molecule_qcm)"
   ]
  },
  {
   "cell_type": "markdown",
   "id": "43560a9d",
   "metadata": {},
   "source": [
    "**Question** What is the common name of the molecule shown above?"
   ]
  },
  {
   "cell_type": "code",
   "execution_count": null,
   "id": "c23df5b5",
   "metadata": {
    "tags": []
   },
   "outputs": [],
   "source": [
    "choices = ['Caffeine','Glucose','Ibuprofen','Nicotine']\n",
    "\n",
    "secret_molecule_qcm2 = MCQBox(choices)\n",
    "answer_registry.register_answer_widget(\"secret_molecule_qcm2\", secret_molecule_qcm2)\n",
    "display(secret_molecule_qcm2)"
   ]
  },
  {
   "cell_type": "markdown",
   "id": "1a358e2f",
   "metadata": {},
   "source": [
    "**Question** Which one of the following molecules has the IUPAC name \"benzoic acid\"?"
   ]
  },
  {
   "cell_type": "code",
   "execution_count": null,
   "id": "d2f3aab0",
   "metadata": {
    "tags": []
   },
   "outputs": [],
   "source": [
    "xyz1 = Atoms([\n",
    "  Atom(\"C\",      (1.2264,      0.0427,      0.0670)),\n",
    "  Atom(\"C\",      (1.0031,     -1.3293,      0.0600)),\n",
    "  Atom(\"C\",     (-0.2945,     -1.8256,     -0.0060)),\n",
    "  Atom(\"C\",     (-1.3704,     -0.9461,     -0.0646)),\n",
    "  Atom(\"C\",     (-1.1511,      0.4266,     -0.0578)),\n",
    "  Atom(\"C\",      (0.1497,      0.9292,      0.0066)),\n",
    "  Atom(\"C\",      (0.3871,      2.3956,     -0.0022)),\n",
    "  Atom(\"H\",      (2.2495,      0.4310,      0.1211)),\n",
    "  Atom(\"H\",      (1.8510,     -2.0202,      0.1071)),\n",
    "  Atom(\"H\",     (-0.4688,     -2.9062,     -0.0109)),\n",
    "  Atom(\"H\",     (-2.3926,     -1.3347,     -0.1157)),\n",
    "  Atom(\"H\",     (-2.0006,      1.1172,     -0.1021)),\n",
    "  Atom(\"H\",      (0.5024,      2.7582,     -1.0330)),\n",
    "  Atom(\"H\",      (1.2994,      2.6647,      0.5466)),\n",
    "  Atom(\"H\",     (-0.4475,      2.9470,      0.4506))])\n",
    "\n",
    "\n",
    "xyz2 = Atoms([Atom(\"C\",      (0.6504,      1.1978,     -0.0297)),\n",
    "  Atom(\"C\",      (1.9454,      0.7011,     -0.0190)),\n",
    "  Atom(\"C\",      (2.1752,     -0.6726,      0.0122)),\n",
    "  Atom(\"C\",      (1.1032,     -1.5553,      0.0323)),\n",
    "  Atom(\"C\",     (-0.2051,     -1.0813,      0.0222)),\n",
    "  Atom(\"C\",     (-0.4284,      0.2985,     -0.0085)),\n",
    "  Atom(\"H\",      (0.4708,      2.2786,     -0.0544)),\n",
    "  Atom(\"H\",      (2.7923,      1.3949,     -0.0349)),\n",
    "  Atom(\"H\",      (3.2006,     -1.0551,      0.0208)),\n",
    "  Atom(\"H\",      (1.2845,     -2.6349,      0.0565)),\n",
    "  Atom(\"H\",     (-1.0364,     -1.7948,      0.0383)),\n",
    "  Atom(\"O\",     (-1.6672,      0.9093,     -0.0224)),\n",
    "  Atom(\"C\",     (-2.8002,      0.0778,      0.0128)),\n",
    "  Atom(\"H\",     (-2.8636,     -0.5772,     -0.8639)),\n",
    "  Atom(\"H\",     (-3.6200,      0.8011,     -0.0005)),\n",
    "  Atom(\"H\",     (-2.8459,     -0.5255,      0.9269))])  \n",
    "\n",
    "xyz3 = Atoms([\n",
    "  Atom(\"C\",      (3.6609,      0.5848,      0.0000)),\n",
    "  Atom(\"C\",      (3.6110,     -0.8397,      0.0000)),\n",
    "  Atom(\"C\",      (2.4165,     -1.4895,      0.0000)),\n",
    "  Atom(\"C\",      (1.1870,     -0.7528,      0.0000)),\n",
    "  Atom(\"C\",      (2.5148,      1.3166,      0.0000)),\n",
    "  Atom(\"C\",      (1.2368,      0.6679,      0.0000)),\n",
    "  Atom(\"C\",     (-0.0491,     -1.4032,      0.0000)),\n",
    "  Atom(\"C\",     (-1.2369,     -0.6678,      0.0000)),\n",
    "  Atom(\"C\",      (0.0492,      1.4033,      0.0000)),\n",
    "  Atom(\"C\",     (-1.1871,      0.7528,      0.0000)),\n",
    "  Atom(\"C\",     (-2.5148,     -1.3167,      0.0000)),\n",
    "  Atom(\"C\",     (-3.6609,     -0.5848,      0.0000)),\n",
    "  Atom(\"C\",     (-3.6110,      0.8395,      0.0000)),\n",
    "  Atom(\"C\",     (-2.4165,      1.4895,      0.0000)),\n",
    "  Atom(\"H\",      (4.6397,      1.0755,      0.0000)),\n",
    "  Atom(\"H\",      (4.5529,     -1.3980,      0.0000)),\n",
    "  Atom(\"H\",      (2.3680,     -2.5843,      0.0000)),\n",
    "  Atom(\"H\",      (2.5432,      2.4122,      0.0000)),\n",
    "  Atom(\"H\",     (-0.0876,     -2.4995,      0.0000)),\n",
    "  Atom(\"H\",     (0.0876,      2.4996,      0.0000)),\n",
    "  Atom(\"H\",     (-2.5431,     -2.4122,      0.0000)),\n",
    "  Atom(\"H\",     (-4.6397,     -1.0756,      0.0000)),\n",
    "  Atom(\"H\",     (-4.5531,      1.3975,      0.0000)),\n",
    "  Atom(\"H\",     (-2.3682,      2.5844,      0.0000))])\n",
    "xyz4 = Atoms([\n",
    "  Atom(\"H\",      (2.2291,     -0.1517,      2.9720)),\n",
    "  Atom(\"C\",      (1.5782,     -0.1115,      2.0923)),\n",
    "  Atom(\"C\",      (0.1964,     -0.0808,      2.2505)),\n",
    "  Atom(\"H\",     (-0.2402,     -0.0983,      3.2547)),\n",
    "  Atom(\"C\",     (-0.6352,     -0.0273,      1.1374)),\n",
    "  Atom(\"H\",     (-1.7228,     -0.0023,      1.2721)),\n",
    "  Atom(\"C\",     (-0.0788,     -0.0060,     -0.1439)),\n",
    "  Atom(\"C\",     (-0.9318,      0.0432,     -1.3534)),\n",
    "  Atom(\"O\",     (-0.6482,     -0.2725,     -2.4972)),\n",
    "  Atom(\"O\",     (-2.1954,      0.5046,     -1.1851)),\n",
    "  Atom(\"H\",     (-2.6479,      0.4922,     -2.0230)),\n",
    "  Atom(\"C\",      (1.3094,     -0.0420,     -0.3022)),\n",
    "  Atom(\"H\",      (1.7464,     -0.0340,     -1.3085)),\n",
    "  Atom(\"C\",      (2.1329,     -0.0923,      0.8167)),\n",
    "  Atom(\"H\",      (3.2205,     -0.1183,      0.6913))])\n",
    "\n",
    "molecule1 = chemiscope.show(frames=[xyz1],\n",
    "                            properties=chemiscope.extract_properties([xyz1]),mode=\"structure\")\n",
    "molecule2 = chemiscope.show(frames=[xyz2],\n",
    "                            properties=chemiscope.extract_properties([xyz2]),mode=\"structure\")\n",
    "molecule3 = chemiscope.show(frames=[xyz3],\n",
    "                            properties=chemiscope.extract_properties([xyz3]),mode=\"structure\")\n",
    "molecule4 = chemiscope.show(frames=[xyz4],\n",
    "                            properties=chemiscope.extract_properties([xyz4]),mode=\"structure\")\n",
    "\n",
    "choices_q3 = [molecule1,molecule2,molecule3,molecule4]\n",
    "test3 = MCQBox(choices_q3,layout =  Layout(grid_template_columns=\"repeat(2, 4in\"))\n",
    "answer_registry.register_answer_widget(\"test3\", test3)\n",
    "display(test3)"
   ]
  }
 ],
 "metadata": {
  "kernelspec": {
   "display_name": "Python 3 (ipykernel)",
   "language": "python",
   "name": "python3"
  },
  "language_info": {
   "codemirror_mode": {
    "name": "ipython",
    "version": 3
   },
   "file_extension": ".py",
   "mimetype": "text/x-python",
   "name": "python",
   "nbconvert_exporter": "python",
   "pygments_lexer": "ipython3",
   "version": "3.10.11"
  }
 },
 "nbformat": 4,
 "nbformat_minor": 5
}
