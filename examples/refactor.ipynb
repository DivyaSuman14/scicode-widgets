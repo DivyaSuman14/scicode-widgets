{
 "cells": [
  {
   "cell_type": "markdown",
   "id": "d056bedb",
   "metadata": {},
   "source": [
    "### 1. out-of-the-box make cued widget"
   ]
  },
  {
   "cell_type": "code",
   "execution_count": 1,
   "id": "10f679e4",
   "metadata": {},
   "outputs": [
    {
     "data": {
      "text/html": [
       "<style>.scwidget-save-cue-box {\n",
       "  border-right : 0px solid;\n",
       "}\n",
       "\n",
       ".scwidget-save-cue-box--on-trait-change {\n",
       "  border-right : 5px solid;\n",
       "  border-right-color: #77216F;\n",
       "}\n",
       "\n",
       ".scwidget-check-cue-box {\n",
       "  border-left : 0px solid;\n",
       "}\n",
       "\n",
       ".scwidget-check-cue-box--on-trait-change {\n",
       "  border-left : 5px solid;\n",
       "  border-left-color: #20b5e9;\n",
       "}\n",
       "\n",
       ".scwidget-update-cue-box {\n",
       "  border-left : 0px solid;\n",
       "}\n",
       "\n",
       ".scwidget-update-cue-box--on-trait-change {\n",
       "  border-left : 5px solid;\n",
       "  border-left-color: #e95420;\n",
       "}\n",
       "\n",
       "\n",
       ".scwidget-save-cue-button {\n",
       "    border :  3px solid;\n",
       "    border-color: #f4f2f0;\n",
       "    background-color: #f4f2f0;\n",
       "    height: auto;\n",
       "}\n",
       "\n",
       ".scwidget-save-cue-button:disabled {\n",
       "  border-color: #f4f2f0;\n",
       "}\n",
       ".scwidget-save-cue-button--on_trait_change {\n",
       "  border-color: #77216F;\n",
       "}\n",
       "\n",
       "\n",
       ".scwidget-check-cue-button {\n",
       "    border :  3px solid;\n",
       "    border-color: #f4f2f0;\n",
       "    background-color: #f4f2f0;\n",
       "    height: auto;\n",
       "}\n",
       "\n",
       ".scwidget-check-cue-button:disabled {\n",
       "  border-color: #f4f2f0;\n",
       "}\n",
       ".scwidget-check-cue-button--on_trait_change {\n",
       "  border-color: #20b5e9;\n",
       "}\n",
       "\n",
       ".scwidget-update-cue-button {\n",
       "    border :  3px solid;\n",
       "    border-color: #f4f2f0;\n",
       "    background-color: #f4f2f0;\n",
       "    height: auto;\n",
       "}\n",
       "\n",
       ".scwidget-update-cue-button:disabled {\n",
       "  border-color: #f4f2f0;\n",
       "}\n",
       "\n",
       ".scwidget-update-cue-button--on_trait_change{\n",
       "  border-color: #e95420;\n",
       "}\n",
       "</style>"
      ],
      "text/plain": [
       "<IPython.core.display.HTML object>"
      ]
     },
     "metadata": {},
     "output_type": "display_data"
    }
   ],
   "source": [
    "from ipywidgets import VBox\n",
    "from scwidgets import (SaveRegistry, CheckRegistry, CheckRegistryDummy)\n",
    "\n",
    "check_registry = CheckRegistryDummy()\n",
    "save_registry = SaveRegistry()\n",
    "\n",
    "class DemoWidget(VBox):\n",
    "    def __init__(self, widget, trait, name, save_registry, check_registry, update_function):\n",
    "        self._widget = widget\n",
    "        self._trait = trait\n",
    "        self._check_cue_widget = CheckCueBox(widget, trait)\n",
    "        self._save_check_cue_widget = SaveCueBox(widget,  trait, widget_to_cue=self._check_cue_widget)\n",
    "        self._cue_widget = UpdateCueBox(widget, trait, widget_to_cue=self._save_check_cue_widget)\n",
    "        \n",
    "        self._check_button = CheckCueButton(self._check_cue_widget, check_registry, self)\n",
    "        self._save_button = SaveCueButton(self._save_check_cue_widget, save_registry, name)\n",
    "        self._update_button = UpdateCueButton(self._cue_widget, update_function)\n",
    "        super().__init__([self._cue_widget, HBox([self._update_button, self._check_button, self._save_button])])\n",
    "    \n",
    "        save_registry.register(self, name)\n",
    "        check_registry.register_checks(self)\n",
    "    \n",
    "    @property\n",
    "    def answer(self):\n",
    "        return getattr(self._widget, trait)\n",
    "\n",
    "    @property\n",
    "    def compute_output(self):\n",
    "        return self.answer\n",
    "\n",
    "from scwidgets import (CheckCueBox, SaveCueBox, UpdateCueBox, CheckCueButton, SaveCueButton, UpdateCueButton)\n",
    "from ipywidgets import VBox, HBox, FloatSlider\n",
    "\n",
    "\n"
   ]
  },
  {
   "cell_type": "code",
   "execution_count": 2,
   "id": "f41026d7",
   "metadata": {},
   "outputs": [
    {
     "data": {
      "application/vnd.jupyter.widget-view+json": {
       "model_id": "bc708a97b8ae46378fc47eac83fcdd59",
       "version_major": 2,
       "version_minor": 0
      },
      "text/plain": [
       "DemoWidget(children=(CueBox(children=(CueBox(children=(CueBox(children=(FloatSlider(value=0.0, description='va…"
      ]
     },
     "metadata": {},
     "output_type": "display_data"
    }
   ],
   "source": [
    "float_slider = FloatSlider(description='value')\n",
    "def update_function(change=None):\n",
    "    return True\n",
    "# if widget does not have compute_ouput function then in uses the trait for checks\n",
    "demo = DemoWidget(float_slider, \"value\", \"demo_ex\", save_registry, check_registry, update_function)\n",
    "display(demo)"
   ]
  },
  {
   "cell_type": "markdown",
   "id": "7ccb7714",
   "metadata": {},
   "source": [
    "### 1.2 Example parbox"
   ]
  },
  {
   "cell_type": "code",
   "execution_count": 8,
   "id": "3324b48c",
   "metadata": {},
   "outputs": [],
   "source": [
    "# requires portaudio19\n",
    "\n",
    "# Linux\n",
    "# $ apt install portaudio19-dev\n",
    "\n",
    "# Mac\n",
    "# $ brew instal portaudio19"
   ]
  },
  {
   "cell_type": "code",
   "execution_count": 5,
   "id": "6bf1c9e5",
   "metadata": {},
   "outputs": [
    {
     "name": "stdout",
     "output_type": "stream",
     "text": [
      "Collecting pyaudio\n",
      "  Using cached PyAudio-0.2.13.tar.gz (46 kB)\n",
      "  Installing build dependencies ... \u001b[?25ldone\n",
      "\u001b[?25h  Getting requirements to build wheel ... \u001b[?25ldone\n",
      "\u001b[?25h  Preparing metadata (pyproject.toml) ... \u001b[?25ldone\n",
      "\u001b[?25hBuilding wheels for collected packages: pyaudio\n",
      "  Building wheel for pyaudio (pyproject.toml) ... \u001b[?25ldone\n",
      "\u001b[?25h  Created wheel for pyaudio: filename=PyAudio-0.2.13-cp310-cp310-linux_x86_64.whl size=27635 sha256=99d9127568bdb19f22fd7d41ad037fb712300831c70ebc488d0532b8b25e33f2\n",
      "  Stored in directory: /home/alexgo/.cache/pip/wheels/9e/3d/ab/c92aec70a8d45cb9b8feb9476ca46616cdb5c78b00dcfb0afd\n",
      "Successfully built pyaudio\n",
      "Installing collected packages: pyaudio\n",
      "Successfully installed pyaudio-0.2.13\n"
     ]
    }
   ],
   "source": [
    "!pip install pyaudio"
   ]
  },
  {
   "cell_type": "markdown",
   "id": "dab25572",
   "metadata": {},
   "source": [
    "### 2. Customized demo"
   ]
  },
  {
   "cell_type": "code",
   "execution_count": 6,
   "id": "525f215b",
   "metadata": {},
   "outputs": [],
   "source": [
    "import math\n",
    "from pyaudio import PyAudio, paUInt8\n",
    "\n",
    "def generate_sine_wave(frequency, duration, volume=0.2, sample_rate=22050):\n",
    "    ''' Generate a tone at the given frequency.\n",
    "\n",
    "        Limited to unsigned 8-bit samples at a given sample_rate.\n",
    "        The sample rate should be at least double the frequency.\n",
    "    '''\n",
    "    if sample_rate < (frequency * 2):\n",
    "        print('Warning: sample_rate must be at least double the frequency '\n",
    "              f'to accurately represent it:\\n    sample_rate {sample_rate}'\n",
    "              f' ≯ {frequency*2} (frequency {frequency}*2)')\n",
    "\n",
    "    num_samples = int(sample_rate * duration)\n",
    "    rest_frames = num_samples % sample_rate\n",
    "\n",
    "    pa = PyAudio()\n",
    "    stream = pa.open(\n",
    "        format=paUInt8,\n",
    "        channels=1,  # mono\n",
    "        rate=sample_rate,\n",
    "        output=True,\n",
    "    )\n",
    "\n",
    "    # make samples\n",
    "    s = lambda i: volume * math.sin(2 * math.pi * frequency * i / sample_rate)\n",
    "    samples = (int(s(i) * 0x7F + 0x80) for i in range(num_samples))\n",
    "\n",
    "    # write several samples at a time\n",
    "    for buf in zip( *([samples] * sample_rate) ):\n",
    "        stream.write(bytes(buf))\n",
    "\n",
    "    # fill remainder of frameset with silence\n",
    "    stream.write(b'\\x80' * rest_frames)\n",
    "\n",
    "    stream.stop_stream()\n",
    "    stream.close()\n",
    "    pa.terminate()\n"
   ]
  },
  {
   "cell_type": "code",
   "execution_count": 7,
   "id": "5cd2b755",
   "metadata": {},
   "outputs": [
    {
     "data": {
      "application/vnd.jupyter.widget-view+json": {
       "model_id": "da4e1929c5a54b2e9918b3571a063ba7",
       "version_major": 2,
       "version_minor": 0
      },
      "text/plain": [
       "VBox(children=(HTML(value='Can you find the right frequency?'), CueBox(children=(CueBox(children=(IntSlider(va…"
      ]
     },
     "metadata": {},
     "output_type": "display_data"
    }
   ],
   "source": [
    "from ipywidgets import HBox, IntSlider, HTML, Button, Output\n",
    "from scwidgets import (CueButton, CheckCueBox, UpdateCueBox, CheckCueButton, UpdateCueButton)\n",
    "\n",
    "def run_own_sound(change=None):\n",
    "    with Output():\n",
    "        generate_sine_wave(\n",
    "            # see http://www.phy.mtu.edu/~suits/notefreqs.html\n",
    "            frequency=int_slider.value,   # Hz, waves per second C6\n",
    "            duration=1.0,       # seconds to play sound\n",
    "            volume=0.2,        # 0..1 how loud it is\n",
    "            sample_rate=22050,  # number of samples per second: 11025, 22050, 44100\n",
    "        )\n",
    "    return True\n",
    "\n",
    "def run_ref_sound(change=None):\n",
    "    with Output():\n",
    "        generate_sine_wave(\n",
    "            # see http://www.phy.mtu.edu/~suits/notefreqs.html\n",
    "            frequency=515,   # Hz, waves per second C6\n",
    "            duration=1.0,       # seconds to play sound\n",
    "            volume=0.2,        # 0..1 how loud it is\n",
    "            sample_rate=22050,  # number of samples per second: 11025, 22050, 44100\n",
    "        )\n",
    "    return True\n",
    "\n",
    "def give_hint(change=None):\n",
    "    hint_output.clear_output()\n",
    "    with hint_output:\n",
    "        if int_slider.value < 515:\n",
    "            print(\"Too low frequency\")\n",
    "        elif int_slider.value > 515:\n",
    "            print(\"Too high frequency\")\n",
    "        else:\n",
    "            print(\"Correct frequency\")\n",
    "    return True\n",
    "            \n",
    "hint_output = Output() \n",
    "\n",
    "int_slider = IntSlider(value=500, min=500, max=520, step=1, continuous_update=False, description='frequency')\n",
    "          \n",
    "text = HTML(value='Can you find the right frequency?')\n",
    "update_cued_int_slider = UpdateCueBox(int_slider, \"value\")\n",
    "check_cued_int_slider = CheckCueBox(int_slider, \"value\", widget_to_cue=update_cued_int_slider)\n",
    "\n",
    "run_own_sound_button = UpdateCueButton(update_cued_int_slider, run_own_sound, disable_after_succesful_action=False, description='Run your sound')\n",
    "\n",
    "run_ref_sound_button = Button(description='Run ref sound')\n",
    "run_ref_sound_button.on_click(run_ref_sound)\n",
    "\n",
    "# check button with check registry would be overkill\n",
    "# to be forced to give a css style, is overkill, if one wants to only change the color\n",
    "hint_button_css_style = {'__init__': 'scwidget-check-cue-button',\n",
    "             '_on_disabled': 'scwidget-check-cue-button:disabled',\n",
    "             '_on_trait_change': 'scwidget-check-cue-button--on_trait_change'}\n",
    "\n",
    "hint_button = CueButton(check_cued_int_slider, give_hint, description='Give hint', css_style=hint_button_css_style)\n",
    "\n",
    "demo = VBox([text, check_cued_int_slider, HBox([run_own_sound_button, run_ref_sound_button, hint_button]), hint_output])\n",
    "display(demo)"
   ]
  },
  {
   "cell_type": "code",
   "execution_count": null,
   "id": "0149f683",
   "metadata": {},
   "outputs": [],
   "source": []
  },
  {
   "cell_type": "code",
   "execution_count": null,
   "id": "8a71f97a",
   "metadata": {},
   "outputs": [],
   "source": []
  }
 ],
 "metadata": {
  "kernelspec": {
   "display_name": "Python 3 (ipykernel)",
   "language": "python",
   "name": "python3"
  },
  "language_info": {
   "codemirror_mode": {
    "name": "ipython",
    "version": 3
   },
   "file_extension": ".py",
   "mimetype": "text/x-python",
   "name": "python",
   "nbconvert_exporter": "python",
   "pygments_lexer": "ipython3",
   "version": "3.10.9"
  }
 },
 "nbformat": 4,
 "nbformat_minor": 5
}
