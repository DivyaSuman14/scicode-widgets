{
 "cells": [
  {
   "cell_type": "code",
   "execution_count": 1,
   "id": "b3136ebb-c0a2-4515-912f-edaa36d97537",
   "metadata": {},
   "outputs": [],
   "source": [
    "import numpy as np\n",
    "from typing import Tuple\n",
    "\n",
    "from ipywidgets import IntSlider, Layout, VBox, Output\n",
    "\n",
    "import scwidgets\n",
    "from scwidgets.code import CodeDemo, CodeInput, ParameterPanel\n",
    "from scwidgets.check import (\n",
    "    Check,\n",
    "    CheckableWidget,\n",
    "    CheckRegistry,\n",
    "    ChecksLog,\n",
    "    assert_numpy_allclose,\n",
    "    assert_numpy_floating_sub_dtype,\n",
    "    assert_shape,\n",
    "    assert_type,\n",
    ")"
   ]
  },
  {
   "cell_type": "code",
   "execution_count": 2,
   "id": "d446317f-5b3a-4917-b7db-b711b81ebba0",
   "metadata": {
    "tags": []
   },
   "outputs": [
    {
     "data": {
      "text/html": [
       "HTML with scicode-widget css style sheet. Please keep this cell output alive.<style>/* scwidgets default cue box */\n",
       "\n",
       ".scwidget-cue-box {\n",
       "  border-left : 0px solid;\n",
       "}\n",
       "\n",
       ".scwidget-cue-box--cue {\n",
       "  border-left : 5px solid;\n",
       "  border-left-color: #000000;\n",
       "}\n",
       "\n",
       "/* scwidgets save cue box */\n",
       "\n",
       ".scwidget-save-cue-box {\n",
       "  border-left : 0px solid;\n",
       "}\n",
       "\n",
       ".scwidget-save-cue-box--cue {\n",
       "  border-left : 5px solid;\n",
       "  border-left-color: #77216F;\n",
       "}\n",
       "\n",
       "/* scwidgets check cue box */\n",
       "\n",
       ".scwidget-check-cue-box {\n",
       "  border-left : 0px solid;\n",
       "}\n",
       "\n",
       ".scwidget-check-cue-box--cue {\n",
       "  border-left : 5px solid;\n",
       "  border-left-color: #20b5e9;\n",
       "}\n",
       "\n",
       "/* scwidgets update cue box */\n",
       "\n",
       ".scwidget-update-cue-box {\n",
       "  border-left : 0px solid;\n",
       "}\n",
       "\n",
       ".scwidget-update-cue-box--cue {\n",
       "  border-left : 5px solid;\n",
       "  border-left-color: #e95420;\n",
       "}\n",
       "\n",
       "</style>"
      ],
      "text/plain": [
       "<IPython.core.display.HTML object>"
      ]
     },
     "execution_count": 2,
     "metadata": {},
     "output_type": "execute_result"
    }
   ],
   "source": [
    "scwidgets.get_css_style()"
   ]
  },
  {
   "cell_type": "markdown",
   "id": "562452ac-67a9-4f68-bc08-c4344277a063",
   "metadata": {},
   "source": [
    "## ParameterPanel"
   ]
  },
  {
   "cell_type": "markdown",
   "id": "feb53b95-98b3-4b51-afdb-d60691f030ef",
   "metadata": {},
   "source": [
    "##### Passes arguments to ipywidgets.interactive\n",
    "##### see tutorial to see full possiblities https://ipywidgets.readthedocs.io/en/stable/examples/Using%20Interact.html"
   ]
  },
  {
   "cell_type": "code",
   "execution_count": 3,
   "id": "8a9a7b69-a8c7-4d7f-9eb7-3613005084fa",
   "metadata": {},
   "outputs": [
    {
     "data": {
      "application/vnd.jupyter.widget-view+json": {
       "model_id": "1fc5f54225ce4703837b082b496851f6",
       "version_major": 2,
       "version_minor": 0
      },
      "text/plain": [
       "ParameterPanel(children=(IntSlider(value=5, description='a', max=15, min=-5), FloatSlider(value=5.0, descripti…"
      ]
     },
     "execution_count": 3,
     "metadata": {},
     "output_type": "execute_result"
    }
   ],
   "source": [
    "ParameterPanel(a=5, b=5., c=[\"orange\", \"apple\"], d=True)"
   ]
  },
  {
   "cell_type": "code",
   "execution_count": 4,
   "id": "102b207d-b768-47f5-9ea0-52743fff8ef3",
   "metadata": {},
   "outputs": [
    {
     "data": {
      "application/vnd.jupyter.widget-view+json": {
       "model_id": "9a9405bc589f43e3b871f87fd0957e9d",
       "version_major": 2,
       "version_minor": 0
      },
      "text/plain": [
       "ParameterPanel(children=(IntSlider(value=5, description='a', max=15, min=-5), FloatSlider(value=5.0, descripti…"
      ]
     },
     "execution_count": 4,
     "metadata": {},
     "output_type": "execute_result"
    }
   ],
   "source": [
    "ParameterPanel(a=5, b=5., c=[\"orange\", \"apple\"], d=IntSlider(0,1, layout=Layout(width=\"500px\")))"
   ]
  },
  {
   "cell_type": "markdown",
   "id": "dcfc35ae-d979-4521-a33c-33b625ad98cb",
   "metadata": {},
   "source": [
    "## CheckRegistry"
   ]
  },
  {
   "cell_type": "code",
   "execution_count": 5,
   "id": "e8115f4b-af6f-48d6-be63-18c43c4c3a36",
   "metadata": {},
   "outputs": [],
   "source": [
    "def multi_param_check(use_fingerprint=False, failing=False):\n",
    "    if failing:\n",
    "        outputs_references = [\n",
    "            (\n",
    "                [1.0],\n",
    "                np.array([2.0]),\n",
    "            )\n",
    "        ]\n",
    "    else:\n",
    "        outputs_references = [\n",
    "            (\n",
    "                np.array([1.0, 2.0]),\n",
    "                np.array([3.0]),\n",
    "            )\n",
    "        ]\n",
    "\n",
    "    if use_fingerprint:\n",
    "        def fingerprint(output_parameter1, output_parameter2):\n",
    "            return np.sum(output_parameter1) + np.sum(output_parameter2)\n",
    "        for i, output_references in enumerate(outputs_references):\n",
    "            outputs_references[i] = (fingerprint(*output_references),)\n",
    "    else:\n",
    "        fingerprint = None\n",
    "\n",
    "    return Check(\n",
    "        function_to_check=None,\n",
    "        asserts=[\n",
    "            assert_type,\n",
    "            assert_shape,\n",
    "            assert_numpy_floating_sub_dtype,\n",
    "            assert_numpy_allclose,\n",
    "        ],\n",
    "        inputs_parameters=[\n",
    "            {\n",
    "                \"parameter1\": 1.0,\n",
    "                \"parameter2\": 2.0,\n",
    "                \"parameter3\": 3.0,\n",
    "            }\n",
    "        ],\n",
    "        outputs_references=outputs_references,\n",
    "        fingerprint=fingerprint,\n",
    "    )\n",
    "\n",
    "checks = [\n",
    "    multi_param_check(False, False),\n",
    "    multi_param_check(True, False),\n",
    "    multi_param_check(False, True),\n",
    "    multi_param_check(True, True)\n",
    "]\n",
    "\n",
    "class MockCheckableWidget(VBox, CheckableWidget):\n",
    "    def __init__(self, check_registry):\n",
    "        self._results = []\n",
    "        CheckableWidget.__init__(self, check_registry)\n",
    "        self._output = Output()\n",
    "        VBox.__init__(self, [self._output])\n",
    "\n",
    "    def compute_output_to_check(self, parameter1, parameter2, parameter3):\n",
    "        return np.array([parameter1, parameter2]), np.array([parameter3])\n",
    "\n",
    "    def handle_checks_result(self, result):\n",
    "        self._output.clear_output()\n",
    "        with self._output:\n",
    "            if isinstance(result, Exception):\n",
    "                raise result\n",
    "            elif isinstance(result, ChecksLog):\n",
    "                if result.successful:\n",
    "                    print(\"Checks successful\")\n",
    "                else:\n",
    "                    print(result.message())\n",
    "            else:\n",
    "                print(result)"
   ]
  },
  {
   "cell_type": "code",
   "execution_count": 6,
   "id": "1652ad74-f31c-4dba-a020-354b11a2617e",
   "metadata": {},
   "outputs": [
    {
     "data": {
      "application/vnd.jupyter.widget-view+json": {
       "model_id": "3e9105418f3b4db7a8f8f2a79e315a76",
       "version_major": 2,
       "version_minor": 0
      },
      "text/plain": [
       "CheckRegistry(children=(HBox(children=(Button(description='Set all references', style=ButtonStyle()), Button(d…"
      ]
     },
     "execution_count": 6,
     "metadata": {},
     "output_type": "execute_result"
    }
   ],
   "source": [
    "check_registry = CheckRegistry()\n",
    "check_registry"
   ]
  },
  {
   "cell_type": "code",
   "execution_count": 7,
   "id": "f02b1e6b-0852-4acc-8298-08f4ac2f75c8",
   "metadata": {},
   "outputs": [
    {
     "data": {
      "application/vnd.jupyter.widget-view+json": {
       "model_id": "743758fb17cb47b4a283d58a2062f18c",
       "version_major": 2,
       "version_minor": 0
      },
      "text/plain": [
       "MockCheckableWidget(children=(Output(),))"
      ]
     },
     "execution_count": 7,
     "metadata": {},
     "output_type": "execute_result"
    }
   ],
   "source": [
    "widget = MockCheckableWidget(check_registry)\n",
    "widget.add_check(checks)\n",
    "widget"
   ]
  },
  {
   "cell_type": "markdown",
   "id": "60bc5e41-9726-49d6-a13a-bea85da47bd1",
   "metadata": {},
   "source": [
    "## CodeDemo"
   ]
  },
  {
   "cell_type": "code",
   "execution_count": 8,
   "id": "b362bb67-6463-46e2-818c-b3c5f7292c99",
   "metadata": {},
   "outputs": [
    {
     "data": {
      "application/vnd.jupyter.widget-view+json": {
       "model_id": "04d2c75d2fb34a31a88aa8f87d7baa18",
       "version_major": 2,
       "version_minor": 0
      },
      "text/plain": [
       "CodeDemo(children=(UpdateCueBox(children=(CheckCueBox(children=(CodeInput(code_theme='north', function_body='i…"
      ]
     },
     "execution_count": 8,
     "metadata": {},
     "output_type": "execute_result"
    }
   ],
   "source": [
    "def some_func(parameter1: float, parameter2: float, parameter3: float) -> Tuple[np.ndarray, np.ndarray]:\n",
    "    import numpy as np\n",
    "    return np.array([parameter1, parameter2]), np.array([parameter3])\n",
    "\n",
    "\n",
    "demo = CodeDemo(\n",
    "    some_func,\n",
    "    check_registry,\n",
    "    parameters=dict(parameter1=5., parameter2=5., parameter3=1.)\n",
    ")\n",
    "\n",
    "demo.add_check(checks)\n",
    "demo"
   ]
  },
  {
   "cell_type": "code",
   "execution_count": null,
   "id": "b28f7ff9-f772-4e4e-b550-a7a9b1411aa1",
   "metadata": {},
   "outputs": [],
   "source": []
  }
 ],
 "metadata": {
  "kernelspec": {
   "display_name": "Python 3 (ipykernel)",
   "language": "python",
   "name": "python3"
  },
  "language_info": {
   "codemirror_mode": {
    "name": "ipython",
    "version": 3
   },
   "file_extension": ".py",
   "mimetype": "text/x-python",
   "name": "python",
   "nbconvert_exporter": "python",
   "pygments_lexer": "ipython3",
   "version": "3.11.4"
  }
 },
 "nbformat": 4,
 "nbformat_minor": 5
}
